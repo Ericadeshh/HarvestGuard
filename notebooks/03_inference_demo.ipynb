{
 "cells": [
  {
   "cell_type": "code",
   "execution_count": 3,
   "id": "3b5cb3cd",
   "metadata": {},
   "outputs": [],
   "source": [
    "#✅ Cell 1: Import Dependencies\n",
    "# 📦 Import Dependencies\n",
    "import os\n",
    "import sys\n",
    "import torch\n",
    "import torch.nn.functional as F\n",
    "from torchvision import transforms\n",
    "from PIL import Image\n",
    "import matplotlib.pyplot as plt\n",
    "import numpy as np\n",
    "from IPython.display import display\n",
    "import ipywidgets as widgets\n",
    "import pandas as pd\n",
    "\n",
    "# Ensure project root is in sys.path for local imports\n",
    "PROJECT_ROOT = os.path.dirname(os.path.dirname(os.path.abspath(\"__file__\")))\n",
    "sys.path.append(PROJECT_ROOT)\n",
    "\n",
    "from models.autoencoder import ConvAutoencoder\n"
   ]
  },
  {
   "cell_type": "code",
   "execution_count": 4,
   "id": "2572b322",
   "metadata": {},
   "outputs": [],
   "source": [
    "#⚙️ Cell 2: Config + Load Model\n",
    "# ⚙️ Config\n",
    "IMAGE_SIZE = (128, 128)\n",
    "DEVICE = torch.device(\"cuda\" if torch.cuda.is_available() else \"cpu\")\n",
    "MODEL_PATH = os.path.join(PROJECT_ROOT, \"models\", \"checkpoints\", \"autoencoder.pth\")\n",
    "THRESHOLD_PATH = os.path.join(PROJECT_ROOT, \"config\", \"settings.yaml\")\n",
    "\n",
    "import yaml\n",
    "with open(THRESHOLD_PATH, \"r\") as f:\n",
    "    settings = yaml.safe_load(f)\n",
    "threshold = settings.get(\"anomaly_threshold\", 0.015)\n",
    "\n",
    "# Load Model\n",
    "def load_model():\n",
    "    model = ConvAutoencoder().to(DEVICE)\n",
    "    model.load_state_dict(torch.load(MODEL_PATH, map_location=DEVICE))\n",
    "    model.eval()\n",
    "    return model\n",
    "\n",
    "model = load_model()\n"
   ]
  },
  {
   "cell_type": "code",
   "execution_count": 5,
   "id": "64d383c2",
   "metadata": {},
   "outputs": [],
   "source": [
    "#🔁 Cell 3: Inference Functions\n",
    "# 📐 Define transforms\n",
    "transform = transforms.Compose([\n",
    "    transforms.Resize(IMAGE_SIZE),\n",
    "    transforms.ToTensor()\n",
    "])\n",
    "\n",
    "# 🔁 Reconstruction + scoring\n",
    "def infer_image(image_path):\n",
    "    image = Image.open(image_path).convert(\"RGB\")\n",
    "    image_tensor = transform(image).unsqueeze(0).to(DEVICE)\n",
    "    with torch.no_grad():\n",
    "        reconstruction = model(image_tensor)\n",
    "        loss = F.mse_loss(reconstruction, image_tensor).item()\n",
    "    return image, reconstruction.squeeze().cpu(), round(loss, 5)\n"
   ]
  },
  {
   "cell_type": "code",
   "execution_count": 6,
   "id": "392b6076",
   "metadata": {},
   "outputs": [],
   "source": [
    "#🖼️ Cell 4: Visual Comparison\n",
    "# 🖼️ Visualize input vs reconstruction\n",
    "def show_comparison(image_path, threshold=threshold):\n",
    "    original, reconstructed, score = infer_image(image_path)\n",
    "\n",
    "    fig, axes = plt.subplots(1, 2, figsize=(10, 5))\n",
    "    axes[0].imshow(original)\n",
    "    axes[0].set_title(\"Original\")\n",
    "    axes[0].axis(\"off\")\n",
    "\n",
    "    axes[1].imshow(reconstructed.permute(1, 2, 0))\n",
    "    axes[1].set_title(\"Reconstruction\")\n",
    "    axes[1].axis(\"off\")\n",
    "\n",
    "    verdict = \"✅ REAL\" if score < threshold else \"⚠️ SUSPECT / FAKE\"\n",
    "    color = \"green\" if verdict == \"✅ REAL\" else \"red\"\n",
    "    plt.suptitle(f\"Score: {score}  →  {verdict}\", fontsize=14, color=color)\n",
    "    plt.show()\n"
   ]
  },
  {
   "cell_type": "code",
   "execution_count": 7,
   "id": "1fca935a",
   "metadata": {},
   "outputs": [
    {
     "data": {
      "application/vnd.jupyter.widget-view+json": {
       "model_id": "59b2d6c357dc43d09a7f8a0da62c8998",
       "version_major": 2,
       "version_minor": 0
      },
      "text/plain": [
       "Dropdown(description='Select Image:', options=('000001.jpg', '000002.jpg', '000003.jpg', '000004.jpg', '000005…"
      ]
     },
     "metadata": {},
     "output_type": "display_data"
    }
   ],
   "source": [
    "#🔍 Cell 5: Image Selector Dropdown\n",
    "# 🔍 File selector dropdown\n",
    "SAMPLE_DIR = os.path.join(PROJECT_ROOT, \"data\", \"preprocessed\", \"fertilizer\", \"YaraMila\")\n",
    "image_files = [f for f in os.listdir(SAMPLE_DIR) if f.endswith((\".jpg\", \".jpeg\", \".png\"))]\n",
    "dropdown = widgets.Dropdown(options=image_files, description=\"Select Image:\")\n",
    "\n",
    "def on_select(change):\n",
    "    sample_path = os.path.join(SAMPLE_DIR, change[\"new\"])\n",
    "    show_comparison(sample_path)\n",
    "\n",
    "dropdown.observe(on_select, names=\"value\")\n",
    "display(dropdown)\n"
   ]
  },
  {
   "cell_type": "code",
   "execution_count": 13,
   "id": "5548a8a1",
   "metadata": {},
   "outputs": [
    {
     "name": "stdout",
     "output_type": "stream",
     "text": [
      "📈 Top 10 Highest Anomaly Scores\n"
     ]
    },
    {
     "data": {
      "application/vnd.microsoft.datawrangler.viewer.v0+json": {
       "columns": [
        {
         "name": "index",
         "rawType": "int64",
         "type": "integer"
        },
        {
         "name": "file",
         "rawType": "object",
         "type": "string"
        },
        {
         "name": "score",
         "rawType": "float64",
         "type": "float"
        },
        {
         "name": "result",
         "rawType": "object",
         "type": "string"
        }
       ],
       "ref": "ebdea54f-4bc3-43b3-b547-d447965d868e",
       "rows": [
        [
         "0",
         "000028.jpg",
         "0.01259",
         "REAL"
        ],
        [
         "1",
         "000025.jpg",
         "0.01219",
         "REAL"
        ],
        [
         "2",
         "000019.jpg",
         "0.01143",
         "REAL"
        ],
        [
         "3",
         "000015.jpg",
         "0.01126",
         "REAL"
        ],
        [
         "4",
         "000017.jpg",
         "0.01007",
         "REAL"
        ],
        [
         "5",
         "000003.jpg",
         "0.00787",
         "REAL"
        ],
        [
         "6",
         "000014.jpg",
         "0.00786",
         "REAL"
        ],
        [
         "7",
         "000004.jpg",
         "0.00766",
         "REAL"
        ],
        [
         "8",
         "000026.jpg",
         "0.0075",
         "REAL"
        ],
        [
         "9",
         "000029.jpg",
         "0.00747",
         "REAL"
        ]
       ],
       "shape": {
        "columns": 3,
        "rows": 10
       }
      },
      "text/html": [
       "<div>\n",
       "<style scoped>\n",
       "    .dataframe tbody tr th:only-of-type {\n",
       "        vertical-align: middle;\n",
       "    }\n",
       "\n",
       "    .dataframe tbody tr th {\n",
       "        vertical-align: top;\n",
       "    }\n",
       "\n",
       "    .dataframe thead th {\n",
       "        text-align: right;\n",
       "    }\n",
       "</style>\n",
       "<table border=\"1\" class=\"dataframe\">\n",
       "  <thead>\n",
       "    <tr style=\"text-align: right;\">\n",
       "      <th></th>\n",
       "      <th>file</th>\n",
       "      <th>score</th>\n",
       "      <th>result</th>\n",
       "    </tr>\n",
       "  </thead>\n",
       "  <tbody>\n",
       "    <tr>\n",
       "      <th>0</th>\n",
       "      <td>000028.jpg</td>\n",
       "      <td>0.01259</td>\n",
       "      <td>REAL</td>\n",
       "    </tr>\n",
       "    <tr>\n",
       "      <th>1</th>\n",
       "      <td>000025.jpg</td>\n",
       "      <td>0.01219</td>\n",
       "      <td>REAL</td>\n",
       "    </tr>\n",
       "    <tr>\n",
       "      <th>2</th>\n",
       "      <td>000019.jpg</td>\n",
       "      <td>0.01143</td>\n",
       "      <td>REAL</td>\n",
       "    </tr>\n",
       "    <tr>\n",
       "      <th>3</th>\n",
       "      <td>000015.jpg</td>\n",
       "      <td>0.01126</td>\n",
       "      <td>REAL</td>\n",
       "    </tr>\n",
       "    <tr>\n",
       "      <th>4</th>\n",
       "      <td>000017.jpg</td>\n",
       "      <td>0.01007</td>\n",
       "      <td>REAL</td>\n",
       "    </tr>\n",
       "    <tr>\n",
       "      <th>5</th>\n",
       "      <td>000003.jpg</td>\n",
       "      <td>0.00787</td>\n",
       "      <td>REAL</td>\n",
       "    </tr>\n",
       "    <tr>\n",
       "      <th>6</th>\n",
       "      <td>000014.jpg</td>\n",
       "      <td>0.00786</td>\n",
       "      <td>REAL</td>\n",
       "    </tr>\n",
       "    <tr>\n",
       "      <th>7</th>\n",
       "      <td>000004.jpg</td>\n",
       "      <td>0.00766</td>\n",
       "      <td>REAL</td>\n",
       "    </tr>\n",
       "    <tr>\n",
       "      <th>8</th>\n",
       "      <td>000026.jpg</td>\n",
       "      <td>0.00750</td>\n",
       "      <td>REAL</td>\n",
       "    </tr>\n",
       "    <tr>\n",
       "      <th>9</th>\n",
       "      <td>000029.jpg</td>\n",
       "      <td>0.00747</td>\n",
       "      <td>REAL</td>\n",
       "    </tr>\n",
       "  </tbody>\n",
       "</table>\n",
       "</div>"
      ],
      "text/plain": [
       "         file    score result\n",
       "0  000028.jpg  0.01259   REAL\n",
       "1  000025.jpg  0.01219   REAL\n",
       "2  000019.jpg  0.01143   REAL\n",
       "3  000015.jpg  0.01126   REAL\n",
       "4  000017.jpg  0.01007   REAL\n",
       "5  000003.jpg  0.00787   REAL\n",
       "6  000014.jpg  0.00786   REAL\n",
       "7  000004.jpg  0.00766   REAL\n",
       "8  000026.jpg  0.00750   REAL\n",
       "9  000029.jpg  0.00747   REAL"
      ]
     },
     "metadata": {},
     "output_type": "display_data"
    },
    {
     "name": "stdout",
     "output_type": "stream",
     "text": [
      "✅ Results saved to: d:\\Documents\\CODE_WITH_ERICADESHH\\GitHub\\HarvestGuard\\data\\annotations\\batch_scores.csv\n"
     ]
    }
   ],
   "source": [
    "#📊 Cell 6: Batch Scoring + Save CSV\n",
    "# 🧪 Score all images in a directory and log anomalies\n",
    "def batch_score_and_log(folder, threshold=threshold):\n",
    "    results = []\n",
    "    for file in sorted(os.listdir(folder)):\n",
    "        if file.lower().endswith((\".jpg\", \".jpeg\", \".png\")):\n",
    "            image_path = os.path.join(folder, file)\n",
    "            _, _, score = infer_image(image_path)\n",
    "            verdict = \"REAL\" if score < threshold else \"SUSPECT / FAKE\"\n",
    "            results.append({\"file\": file, \"score\": score, \"result\": verdict})\n",
    "\n",
    "    df = pd.DataFrame(results)\n",
    "    df = df.sort_values(\"score\", ascending=False).reset_index(drop=True)\n",
    "\n",
    "    print(\"📈 Top 10 Highest Anomaly Scores\")\n",
    "    display(df.head(10))\n",
    "\n",
    "    output_csv = os.path.join(PROJECT_ROOT, \"data\", \"annotations\", \"batch_scores.csv\")\n",
    "    df.to_csv(output_csv, index=False)\n",
    "    print(f\"✅ Results saved to: {output_csv}\")\n",
    "\n",
    "# Run:\n",
    "batch_score_and_log(SAMPLE_DIR)\n"
   ]
  }
 ],
 "metadata": {
  "kernelspec": {
   "display_name": "venv",
   "language": "python",
   "name": "python3"
  },
  "language_info": {
   "codemirror_mode": {
    "name": "ipython",
    "version": 3
   },
   "file_extension": ".py",
   "mimetype": "text/x-python",
   "name": "python",
   "nbconvert_exporter": "python",
   "pygments_lexer": "ipython3",
   "version": "3.10.0"
  }
 },
 "nbformat": 4,
 "nbformat_minor": 5
}
