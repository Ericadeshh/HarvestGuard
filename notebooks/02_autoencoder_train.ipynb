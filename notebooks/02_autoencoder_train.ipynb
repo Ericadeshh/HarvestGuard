{
 "cells": [
  {
   "cell_type": "code",
   "execution_count": 7,
   "id": "7ab3171a",
   "metadata": {},
   "outputs": [],
   "source": [
    "# ================================\n",
    "# 🧠 Autoencoder Training Script\n",
    "# ✅ Add project root to sys.path\n",
    "# ================================\n",
    "\n",
    "import os\n",
    "import sys\n",
    "\n",
    "# Add parent directory (HarvestGuard/) to Python path\n",
    "sys.path.append(os.path.abspath(\"..\"))\n",
    "\n",
    "import torch\n",
    "import torch.nn as nn\n",
    "import torch.optim as optim\n",
    "from torchvision import datasets, transforms\n",
    "from torch.utils.data import DataLoader\n",
    "import matplotlib.pyplot as plt\n",
    "from models.autoencoder import ConvAutoencoder\n"
   ]
  },
  {
   "cell_type": "code",
   "execution_count": 9,
   "id": "584355e9",
   "metadata": {},
   "outputs": [
    {
     "name": "stdout",
     "output_type": "stream",
     "text": [
      "✅ Using device: cpu\n"
     ]
    }
   ],
   "source": [
    "# Cell 2: Set Device (GPU/CPU)\n",
    "device = torch.device(\"cuda\" if torch.cuda.is_available() else \"cpu\")\n",
    "print(f\"✅ Using device: {device}\")\n"
   ]
  },
  {
   "cell_type": "code",
   "execution_count": 10,
   "id": "26f425d9",
   "metadata": {},
   "outputs": [
    {
     "name": "stdout",
     "output_type": "stream",
     "text": [
      "✅ Loaded 433 images from ../data/reference\n"
     ]
    }
   ],
   "source": [
    "#🧠 Cell 3: Load Reference Images (Cleaned)\n",
    "transform = transforms.Compose([\n",
    "    transforms.Resize((128, 128)),\n",
    "    transforms.ToTensor(),  # Converts to [0, 1]\n",
    "])\n",
    "\n",
    "# Load only verified real/reference images\n",
    "DATA_DIR = \"../data/reference\"\n",
    "dataset = datasets.ImageFolder(DATA_DIR, transform=transform)\n",
    "dataloader = DataLoader(dataset, batch_size=32, shuffle=True)\n",
    "print(f\"✅ Loaded {len(dataset)} images from {DATA_DIR}\")\n"
   ]
  },
  {
   "cell_type": "code",
   "execution_count": 18,
   "id": "5fb60bf0",
   "metadata": {},
   "outputs": [
    {
     "data": {
      "text/plain": [
       "'\\n✅ Cell 4: Initialize Model & Loss\\nInstantiates your convolutional autoencoder model.\\n\\nSets the loss function to MSELoss (Mean Squared Error) — it measures how well the model reconstructs the image.\\n\\nUses Adam optimizer, a good default for image-based models\\n'"
      ]
     },
     "execution_count": 18,
     "metadata": {},
     "output_type": "execute_result"
    }
   ],
   "source": [
    "# Cell 4: Initialize Model, Loss, Optimizer\n",
    "model = ConvAutoencoder().to(device)\n",
    "criterion = nn.MSELoss()\n",
    "optimizer = optim.Adam(model.parameters(), lr=1e-3)\n",
    "\n",
    "'''\n",
    "✅ Cell 4: Initialize Model & Loss\n",
    "Instantiates your convolutional autoencoder model.\n",
    "\n",
    "Sets the loss function to MSELoss (Mean Squared Error) — it measures how well the model reconstructs the image.\n",
    "\n",
    "Uses Adam optimizer, a good default for image-based models\n",
    "'''"
   ]
  },
  {
   "cell_type": "code",
   "execution_count": 17,
   "id": "3470128b",
   "metadata": {},
   "outputs": [
    {
     "name": "stdout",
     "output_type": "stream",
     "text": [
      "Number of parameters: 186371\n"
     ]
    }
   ],
   "source": [
    "print(\"Number of parameters:\", sum(p.numel() for p in model.parameters() if p.requires_grad))"
   ]
  },
  {
   "cell_type": "code",
   "execution_count": 12,
   "id": "726deb1b",
   "metadata": {},
   "outputs": [
    {
     "name": "stdout",
     "output_type": "stream",
     "text": [
      "📅 Epoch [1/30] - Loss: 0.10911\n",
      "📅 Epoch [2/30] - Loss: 0.06881\n",
      "📅 Epoch [3/30] - Loss: 0.04877\n",
      "📅 Epoch [4/30] - Loss: 0.03954\n",
      "📅 Epoch [5/30] - Loss: 0.03095\n",
      "📅 Epoch [6/30] - Loss: 0.02522\n",
      "📅 Epoch [7/30] - Loss: 0.02220\n",
      "📅 Epoch [8/30] - Loss: 0.02033\n",
      "📅 Epoch [9/30] - Loss: 0.01903\n",
      "📅 Epoch [10/30] - Loss: 0.01812\n",
      "📅 Epoch [11/30] - Loss: 0.01742\n",
      "📅 Epoch [12/30] - Loss: 0.01666\n",
      "📅 Epoch [13/30] - Loss: 0.01586\n",
      "📅 Epoch [14/30] - Loss: 0.01532\n",
      "📅 Epoch [15/30] - Loss: 0.01437\n",
      "📅 Epoch [16/30] - Loss: 0.01375\n",
      "📅 Epoch [17/30] - Loss: 0.01279\n",
      "📅 Epoch [18/30] - Loss: 0.01180\n",
      "📅 Epoch [19/30] - Loss: 0.01098\n",
      "📅 Epoch [20/30] - Loss: 0.01057\n",
      "📅 Epoch [21/30] - Loss: 0.01019\n",
      "📅 Epoch [22/30] - Loss: 0.00998\n",
      "📅 Epoch [23/30] - Loss: 0.00989\n",
      "📅 Epoch [24/30] - Loss: 0.01019\n",
      "📅 Epoch [25/30] - Loss: 0.00999\n",
      "📅 Epoch [26/30] - Loss: 0.00983\n",
      "📅 Epoch [27/30] - Loss: 0.00961\n",
      "📅 Epoch [28/30] - Loss: 0.00967\n",
      "📅 Epoch [29/30] - Loss: 0.00947\n",
      "📅 Epoch [30/30] - Loss: 0.00926\n"
     ]
    }
   ],
   "source": [
    "#🧠 Cell 5: Train Model\n",
    "NUM_EPOCHS = 30\n",
    "train_losses = []\n",
    "\n",
    "for epoch in range(NUM_EPOCHS):\n",
    "    epoch_loss = 0\n",
    "    model.train()\n",
    "\n",
    "    for images, _ in dataloader:\n",
    "        images = images.to(device)\n",
    "\n",
    "        outputs = model(images)\n",
    "        loss = criterion(outputs, images)\n",
    "\n",
    "        optimizer.zero_grad()\n",
    "        loss.backward()\n",
    "        optimizer.step()\n",
    "\n",
    "        epoch_loss += loss.item()\n",
    "\n",
    "    avg_loss = epoch_loss / len(dataloader)\n",
    "    train_losses.append(avg_loss)\n",
    "\n",
    "    print(f\"📅 Epoch [{epoch+1}/{NUM_EPOCHS}] - Loss: {avg_loss:.5f}\")\n"
   ]
  },
  {
   "cell_type": "code",
   "execution_count": 13,
   "id": "f7127678",
   "metadata": {},
   "outputs": [
    {
     "name": "stdout",
     "output_type": "stream",
     "text": [
      "✅ Model weights saved to models/checkpoints/autoencoder.pth\n"
     ]
    }
   ],
   "source": [
    "#🧠 Cell 6: Save the Model\n",
    "os.makedirs(\"../models/checkpoints\", exist_ok=True)\n",
    "torch.save(model.state_dict(), \"../models/checkpoints/autoencoder.pth\")\n",
    "print(\"✅ Model weights saved to models/checkpoints/autoencoder.pth\")\n"
   ]
  },
  {
   "cell_type": "code",
   "execution_count": 14,
   "id": "2afb1655",
   "metadata": {},
   "outputs": [
    {
     "data": {
      "image/png": "[encoded data removed]",
      "text/plain": [
       "<Figure size 1000x500 with 1 Axes>"
      ]
     },
     "metadata": {},
     "output_type": "display_data"
    }
   ],
   "source": [
    "#🧠 Cell 7: Plot Loss Curve\n",
    "plt.figure(figsize=(10, 5))\n",
    "plt.plot(train_losses, label=\"Training Loss\", color=\"purple\")\n",
    "plt.xlabel(\"Epoch\")\n",
    "plt.ylabel(\"Loss\")\n",
    "plt.title(\"Autoencoder Training Loss\")\n",
    "plt.legend()\n",
    "plt.grid(True)\n",
    "plt.show()\n"
   ]
  }
 ],
 "metadata": {
  "kernelspec": {
   "display_name": "venv",
   "language": "python",
   "name": "python3"
  },
  "language_info": {
   "codemirror_mode": {
    "name": "ipython",
    "version": 3
   },
   "file_extension": ".py",
   "mimetype": "text/x-python",
   "name": "python",
   "nbconvert_exporter": "python",
   "pygments_lexer": "ipython3",
   "version": "3.10.0"
  }
 },
 "nbformat": 4,
 "nbformat_minor": 5
}
