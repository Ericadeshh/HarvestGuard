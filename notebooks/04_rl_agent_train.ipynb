{
 "cells": [
  {
   "cell_type": "code",
   "execution_count": 26,
   "id": "59441052",
   "metadata": {},
   "outputs": [],
   "source": [
    "# 🧠 Cell 1: Core Libraries\n",
    "import os\n",
    "import random\n",
    "import torch\n",
    "import torch.nn as nn\n",
    "import torch.optim as optim\n",
    "from torchvision import transforms\n",
    "from PIL import Image\n",
    "from collections import deque\n",
    "import numpy as np\n",
    "import pathlib\n"
   ]
  },
  {
   "cell_type": "code",
   "execution_count": 11,
   "id": "69507203",
   "metadata": {},
   "outputs": [
    {
     "data": {
      "text/plain": [
       "<torch._C.Generator at 0x15905e585d0>"
      ]
     },
     "execution_count": 11,
     "metadata": {},
     "output_type": "execute_result"
    }
   ],
   "source": [
    "# 🌱 Cell 2: Reproducibility\n",
    "random.seed(42)\n",
    "torch.manual_seed(42)\n"
   ]
  },
  {
   "cell_type": "code",
   "execution_count": 12,
   "id": "f80d45c0",
   "metadata": {},
   "outputs": [
    {
     "name": "stdout",
     "output_type": "stream",
     "text": [
      "🛠 Using image folder: D:\\Documents\\CODE_WITH_ERICADESHH\\GitHub\\HarvestGuard\\data\\preprocessed\\fertilizer\\YaraMila\n"
     ]
    }
   ],
   "source": [
    "# 📂 Cell 3: Project Paths\n",
    "PROJECT_ROOT = pathlib.Path(os.getcwd()).resolve().parent\n",
    "DATA_DIR = PROJECT_ROOT / \"data\" / \"preprocessed\" / \"fertilizer\" / \"YaraMila\"\n",
    "IMAGE_DIR = str(DATA_DIR)\n",
    "\n",
    "DEVICE = torch.device(\"cuda\" if torch.cuda.is_available() else \"cpu\")\n",
    "IMAGE_SIZE = (128, 128)\n",
    "NUM_EPISODES = 5\n",
    "MAX_STEPS = 20\n",
    "LR = 1e-4\n",
    "THRESHOLD = 0.0148  # ← you can inject from settings.yaml if preferred\n",
    "\n",
    "print(f\"🛠 Using image folder: {IMAGE_DIR}\")\n"
   ]
  },
  {
   "cell_type": "code",
   "execution_count": 14,
   "id": "69e2dae5",
   "metadata": {},
   "outputs": [],
   "source": [
    "# 🔍 Cell 4: Load Trained Autoencoder with Scoring Logic\n",
    "\n",
    "import sys\n",
    "\n",
    "# Add project root to sys.path so we can import from models/\n",
    "if str(PROJECT_ROOT) not in sys.path:\n",
    "    sys.path.append(str(PROJECT_ROOT))\n",
    "\n",
    "from models.autoencoder import ConvAutoencoder\n",
    "\n",
    "# Load the autoencoder\n",
    "autoencoder = ConvAutoencoder().to(DEVICE)\n",
    "autoencoder_path = PROJECT_ROOT / \"models\" / \"checkpoints\" / \"autoencoder.pth\"\n",
    "autoencoder.load_state_dict(torch.load(autoencoder_path, map_location=DEVICE))\n",
    "autoencoder.eval()\n",
    "\n",
    "# Scoring function (MSE)\n",
    "def anomaly_score(img_tensor):\n",
    "    with torch.no_grad():\n",
    "        recon = autoencoder(img_tensor)\n",
    "        return torch.nn.functional.mse_loss(recon, img_tensor).item()\n"
   ]
  },
  {
   "cell_type": "code",
   "execution_count": 15,
   "id": "bf499890",
   "metadata": {},
   "outputs": [],
   "source": [
    "# 🧪 Cell 5: Enhanced RL Environment with anomaly scoring\n",
    "\n",
    "class SmarterImageScanEnv:\n",
    "    def __init__(self, image_dir, autoencoder_model):\n",
    "        self.image_dir = image_dir\n",
    "        self.autoencoder = autoencoder_model\n",
    "        self.index = 0\n",
    "\n",
    "        if not os.path.exists(image_dir):\n",
    "            raise FileNotFoundError(f\"❌ Directory not found: {image_dir}\")\n",
    "\n",
    "        self.images = sorted([\n",
    "            f for f in os.listdir(image_dir)\n",
    "            if f.lower().endswith(('.jpg', '.png', '.jpeg'))\n",
    "        ])\n",
    "\n",
    "        if not self.images:\n",
    "            raise ValueError(f\"❌ No valid image files in: {image_dir}\")\n",
    "\n",
    "        self.transform = transforms.Compose([\n",
    "            transforms.Resize(IMAGE_SIZE),\n",
    "            transforms.ToTensor()\n",
    "        ])\n",
    "\n",
    "    def reset(self):\n",
    "        self.index = 0\n",
    "        return self._get_obs()\n",
    "\n",
    "    def _get_obs(self):\n",
    "        if self.index >= len(self.images):\n",
    "            return None\n",
    "        path = os.path.join(self.image_dir, self.images[self.index])\n",
    "        image = Image.open(path).convert(\"RGB\")\n",
    "        return self.transform(image).unsqueeze(0).to(DEVICE)\n",
    "\n",
    "    def step(self, action):\n",
    "        \"\"\"Action: 0 = mark as REAL, 1 = mark as FAKE\"\"\"\n",
    "        img_tensor = self._get_obs()\n",
    "\n",
    "        # Compute anomaly score (lower = more real)\n",
    "        score = anomaly_score(img_tensor)\n",
    "        threshold = 0.0148  # Ideally this should be dynamic/configurable\n",
    "\n",
    "        is_anomaly = score > threshold\n",
    "        user_feedback = 1 if is_anomaly else 0  # Simulated\n",
    "\n",
    "        # Reward logic\n",
    "        if action == 1 and is_anomaly:\n",
    "            reward = +1  # Correctly flagged fake\n",
    "        elif action == 0 and not is_anomaly:\n",
    "            reward = +1  # Correctly identified real\n",
    "        else:\n",
    "            reward = -1  # Wrong classification\n",
    "\n",
    "        self.index += 1\n",
    "        done = self.index >= len(self.images)\n",
    "        return self._get_obs(), reward, done\n"
   ]
  },
  {
   "cell_type": "code",
   "execution_count": 17,
   "id": "83adfdb1",
   "metadata": {},
   "outputs": [],
   "source": [
    "# 🏋️ Cell 6: Setup training with smarter environment\n",
    "# 🤖 Cell X: Define Enhanced Agent\n",
    "class Agent(nn.Module):\n",
    "    def __init__(self, input_shape=(3, 128, 128), num_actions=2):\n",
    "        super(Agent, self).__init__()\n",
    "        c, h, w = input_shape\n",
    "        self.net = nn.Sequential(\n",
    "            nn.Conv2d(c, 16, kernel_size=3, stride=2, padding=1),  # (B, 16, 64, 64)\n",
    "            nn.ReLU(),\n",
    "            nn.Conv2d(16, 32, kernel_size=3, stride=2, padding=1),  # (B, 32, 32, 32)\n",
    "            nn.ReLU(),\n",
    "            nn.Flatten(),\n",
    "            nn.Linear(32 * 32 * 32, 256),\n",
    "            nn.ReLU(),\n",
    "            nn.Linear(256, num_actions)\n",
    "        )\n",
    "\n",
    "    def forward(self, x):\n",
    "        return self.net(x)\n",
    "\n",
    "env = SmarterImageScanEnv(IMAGE_DIR, autoencoder)\n",
    "model = Agent().to(DEVICE)\n",
    "optimizer = optim.Adam(model.parameters(), lr=LR)\n",
    "loss_fn = nn.MSELoss()\n",
    "gamma = 0.95  # Discount factor\n"
   ]
  },
  {
   "cell_type": "code",
   "execution_count": 19,
   "id": "217ed636",
   "metadata": {},
   "outputs": [
    {
     "name": "stdout",
     "output_type": "stream",
     "text": [
      "📈 Episode 1/5 | Total Reward: 20\n",
      "📈 Episode 2/5 | Total Reward: 20\n",
      "📈 Episode 3/5 | Total Reward: 20\n",
      "📈 Episode 4/5 | Total Reward: 20\n",
      "📈 Episode 5/5 | Total Reward: 20\n"
     ]
    }
   ],
   "source": [
    "# 🔁 Cell 7: Train Agent with Smart Reward Logic\n",
    "from collections import deque\n",
    "\n",
    "memory = deque(maxlen=1000)\n",
    "\n",
    "for episode in range(NUM_EPISODES):\n",
    "    state = env.reset()\n",
    "    total_reward = 0\n",
    "\n",
    "    for step in range(MAX_STEPS):\n",
    "        q_values = model(state)\n",
    "        action = torch.argmax(q_values).item()\n",
    "\n",
    "        next_state, reward, done = env.step(action)\n",
    "        total_reward += reward\n",
    "\n",
    "        # Estimate future reward (Q-learning)\n",
    "        with torch.no_grad():\n",
    "            next_q_values = model(next_state) if next_state is not None else torch.zeros_like(q_values)\n",
    "            max_next_q = torch.max(next_q_values)\n",
    "            target_q = q_values.clone()\n",
    "            target_q[0][action] = reward + gamma * max_next_q\n",
    "\n",
    "        # Loss & Backprop\n",
    "        loss = loss_fn(q_values, target_q)\n",
    "        optimizer.zero_grad()\n",
    "        loss.backward()\n",
    "        optimizer.step()\n",
    "\n",
    "        if done or next_state is None:\n",
    "            break\n",
    "\n",
    "        state = next_state\n",
    "\n",
    "    print(f\"📈 Episode {episode+1}/{NUM_EPISODES} | Total Reward: {total_reward}\")\n"
   ]
  },
  {
   "cell_type": "code",
   "execution_count": 20,
   "id": "fa30fc5d",
   "metadata": {},
   "outputs": [
    {
     "name": "stdout",
     "output_type": "stream",
     "text": [
      "✅ Smarter RL agent saved to: D:\\Documents\\CODE_WITH_ERICADESHH\\GitHub\\HarvestGuard\\models\\checkpoints\\rl_agent_smart.pth\n"
     ]
    }
   ],
   "source": [
    "# 💾 Cell 8: Save the trained model\n",
    "CHECKPOINT_DIR = PROJECT_ROOT / \"models\" / \"checkpoints\"\n",
    "CHECKPOINT_DIR.mkdir(parents=True, exist_ok=True)\n",
    "\n",
    "checkpoint_path = CHECKPOINT_DIR / \"rl_agent_smart.pth\"\n",
    "torch.save(model.state_dict(), checkpoint_path)\n",
    "print(f\"✅ Smarter RL agent saved to: {checkpoint_path}\")\n"
   ]
  },
  {
   "cell_type": "code",
   "execution_count": 21,
   "id": "96e23279",
   "metadata": {},
   "outputs": [
    {
     "name": "stdout",
     "output_type": "stream",
     "text": [
      "🔍 Agent Evaluation Run:\n",
      "✅ Total Reward Collected by Smart Agent: 30\n"
     ]
    }
   ],
   "source": [
    "# 🧠 Cell 9: Evaluate Smarter Agent\n",
    "print(\"🔍 Agent Evaluation Run:\")\n",
    "\n",
    "state = env.reset()\n",
    "done = False\n",
    "total_reward = 0\n",
    "\n",
    "while not done and state is not None:\n",
    "    with torch.no_grad():\n",
    "        q_values = model(state)\n",
    "        action = torch.argmax(q_values).item()\n",
    "    next_state, reward, done = env.step(action)\n",
    "    total_reward += reward\n",
    "    state = next_state\n",
    "\n",
    "print(f\"✅ Total Reward Collected by Smart Agent: {total_reward}\")\n"
   ]
  },
  {
   "cell_type": "code",
   "execution_count": 27,
   "id": "fed0d306",
   "metadata": {},
   "outputs": [],
   "source": [
    "# 📦 Imports\n",
    "import matplotlib.pyplot as plt\n",
    "import torchvision.transforms.functional as TF\n",
    "from datetime import datetime\n",
    "from pathlib import Path\n",
    "from PIL import Image\n",
    "import torch\n",
    "import os\n",
    "\n",
    "from matplotlib.backends.backend_pdf import PdfPages  # For PDF export\n",
    "from IPython.display import display, HTML  # For inline display or HTML export\n"
   ]
  },
  {
   "cell_type": "code",
   "execution_count": 28,
   "id": "bee1fab8",
   "metadata": {},
   "outputs": [
    {
     "name": "stdout",
     "output_type": "stream",
     "text": [
      "🎞️ RL Agent Visual Inference Demo:\n"
     ]
    },
    {
     "name": "stderr",
     "output_type": "stream",
     "text": [
      "C:\\Users\\HP\\AppData\\Local\\Temp\\ipykernel_1772\\1071161886.py:53: UserWarning: Glyph 9989 (\\N{WHITE HEAVY CHECK MARK}) missing from font(s) DejaVu Sans.\n",
      "  pdf_report.savefig(fig)  # Save this fig to PDF\n"
     ]
    },
    {
     "name": "stdout",
     "output_type": "stream",
     "text": [
      "📄 PDF report saved: rl_agent_report.pdf\n",
      "🏁 Demo finished — Total Reward Collected: 30\n"
     ]
    }
   ],
   "source": [
    "# 📊 RL Agent Demo with Visual Output\n",
    "print(\"🎞️ RL Agent Visual Inference Demo:\")\n",
    "\n",
    "env.reset()\n",
    "done = False\n",
    "state = env._get_obs()\n",
    "total_reward = 0\n",
    "step = 0\n",
    "\n",
    "results = []\n",
    "figures = []\n",
    "\n",
    "pdf_report = PdfPages(\"rl_agent_report.pdf\")  # 📄 PDF init\n",
    "\n",
    "while not done and state is not None:\n",
    "    with torch.no_grad():\n",
    "        # ✅ Fix shape bug\n",
    "        if state.dim() == 3:\n",
    "            state_input = state.unsqueeze(0)  # (1, 3, 128, 128)\n",
    "        else:\n",
    "            state_input = state  # Already batched\n",
    "\n",
    "        action_values = model(state_input)\n",
    "        action = torch.argmax(action_values).item()\n",
    "\n",
    "        # 🎯 Inference from autoencoder\n",
    "        recon = autoencoder(state_input)\n",
    "        error = torch.mean((recon - state_input) ** 2).item()\n",
    "\n",
    "        # 🔍 Result Label\n",
    "        result = \"✅ Accept\" if action == 0 else \"🚨 Flag\"\n",
    "\n",
    "        # 📊 Store this step\n",
    "        results.append({\n",
    "            \"step\": step,\n",
    "            \"image_path\": env.images[env.index],\n",
    "            \"action\": result,\n",
    "            \"error\": round(error, 5)\n",
    "        })\n",
    "\n",
    "        # 🖼 Side-by-side view\n",
    "        fig, axs = plt.subplots(1, 2, figsize=(8, 4))\n",
    "        axs[0].imshow(TF.to_pil_image(state.squeeze().cpu()))\n",
    "        axs[0].set_title(\"Original\")\n",
    "        axs[0].axis('off')\n",
    "\n",
    "        axs[1].imshow(TF.to_pil_image(recon.squeeze().cpu()))\n",
    "        axs[1].set_title(f\"Reconstruction\\nError: {round(error, 5)}\")\n",
    "        axs[1].axis('off')\n",
    "\n",
    "        fig.suptitle(f\"Step {step} | {result}\", fontsize=12)\n",
    "        figures.append(fig)\n",
    "        pdf_report.savefig(fig)  # Save this fig to PDF\n",
    "        plt.close(fig)\n",
    "\n",
    "        # 🔁 Next step\n",
    "        next_state, reward, done = env.step(action)\n",
    "        total_reward += reward\n",
    "        state = next_state\n",
    "        step += 1\n",
    "\n",
    "pdf_report.close()\n",
    "print(f\"📄 PDF report saved: rl_agent_report.pdf\")\n",
    "print(f\"🏁 Demo finished — Total Reward Collected: {total_reward}\")\n"
   ]
  },
  {
   "cell_type": "code",
   "execution_count": 31,
   "id": "a2badf40",
   "metadata": {},
   "outputs": [
    {
     "name": "stdout",
     "output_type": "stream",
     "text": [
      "🔍 RL Agent Analysis Summary\n",
      "🖼 Total Images Processed: 30\n",
      "✅ Accepted: 30\n",
      "🚨 Flagged: 0\n",
      "📈 Average Reconstruction Error: 0.00608\n",
      "📝 Summary exported: rl_agent_analysis_summary.txt\n"
     ]
    }
   ],
   "source": [
    "# 📊 Post-Analysis Summary\n",
    "\n",
    "# Stats\n",
    "num_flagged = sum(1 for r in results if \"Flag\" in r[\"action\"])\n",
    "num_accepted = len(results) - num_flagged\n",
    "avg_error = round(sum(r[\"error\"] for r in results) / len(results), 5)\n",
    "\n",
    "print(\"🔍 RL Agent Analysis Summary\")\n",
    "print(f\"🖼 Total Images Processed: {len(results)}\")\n",
    "print(f\"✅ Accepted: {num_accepted}\")\n",
    "print(f\"🚨 Flagged: {num_flagged}\")\n",
    "print(f\"📈 Average Reconstruction Error: {avg_error}\")\n",
    "\n",
    "# If desired, export as text\n",
    "with open(\"rl_agent_analysis_summary.txt\", \"w\") as f:\n",
    "    f.write(\"RL Agent Analysis Summary\\n\")\n",
    "    f.write(f\"Total Images Processed: {len(results)}\\n\")\n",
    "    f.write(f\"Accepted: {num_accepted}\\n\")\n",
    "    f.write(f\"Flagged: {num_flagged}\\n\")\n",
    "    f.write(f\"Average Reconstruction Error: {avg_error}\\n\")\n",
    "\n",
    "print(\"📝 Summary exported: rl_agent_analysis_summary.txt\")\n"
   ]
  },
  {
   "cell_type": "code",
   "execution_count": 30,
   "id": "fa0e1cb5",
   "metadata": {},
   "outputs": [
    {
     "data": {
      "text/html": [
       "\n",
       "<h3>RL Agent Decision Log</h3>\n",
       "<table border='1' style='border-collapse: collapse;'>\n",
       "<tr><th>Step</th><th>Image</th><th>Action</th><th>Recon Error</th></tr>\n",
       "<tr><td>0</td><td>000001.jpg</td><td>✅ Accept</td><td>0.00663</td></tr><tr><td>1</td><td>000002.jpg</td><td>✅ Accept</td><td>0.007</td></tr><tr><td>2</td><td>000003.jpg</td><td>✅ Accept</td><td>0.00787</td></tr><tr><td>3</td><td>000004.jpg</td><td>✅ Accept</td><td>0.00766</td></tr><tr><td>4</td><td>000005.jpg</td><td>✅ Accept</td><td>0.00251</td></tr><tr><td>5</td><td>000006.jpg</td><td>✅ Accept</td><td>0.00703</td></tr><tr><td>6</td><td>000007.jpg</td><td>✅ Accept</td><td>0.00182</td></tr><tr><td>7</td><td>000008.jpg</td><td>✅ Accept</td><td>0.00243</td></tr><tr><td>8</td><td>000009.jpg</td><td>✅ Accept</td><td>0.00646</td></tr><tr><td>9</td><td>000010.jpg</td><td>✅ Accept</td><td>0.0029</td></tr><tr><td>10</td><td>000011.jpg</td><td>✅ Accept</td><td>0.00138</td></tr><tr><td>11</td><td>000012.jpg</td><td>✅ Accept</td><td>0.00311</td></tr><tr><td>12</td><td>000013.jpg</td><td>✅ Accept</td><td>0.0017</td></tr><tr><td>13</td><td>000014.jpg</td><td>✅ Accept</td><td>0.00786</td></tr><tr><td>14</td><td>000015.jpg</td><td>✅ Accept</td><td>0.01126</td></tr><tr><td>15</td><td>000016.jpg</td><td>✅ Accept</td><td>0.00714</td></tr><tr><td>16</td><td>000017.jpg</td><td>✅ Accept</td><td>0.01007</td></tr><tr><td>17</td><td>000018.jpg</td><td>✅ Accept</td><td>0.00397</td></tr><tr><td>18</td><td>000019.jpg</td><td>✅ Accept</td><td>0.01143</td></tr><tr><td>19</td><td>000020.jpg</td><td>✅ Accept</td><td>0.00549</td></tr><tr><td>20</td><td>000022.jpg</td><td>✅ Accept</td><td>0.00199</td></tr><tr><td>21</td><td>000023.jpg</td><td>✅ Accept</td><td>0.00444</td></tr><tr><td>22</td><td>000024.jpg</td><td>✅ Accept</td><td>0.0048</td></tr><tr><td>23</td><td>000025.jpg</td><td>✅ Accept</td><td>0.01219</td></tr><tr><td>24</td><td>000026.jpg</td><td>✅ Accept</td><td>0.0075</td></tr><tr><td>25</td><td>000027.jpg</td><td>✅ Accept</td><td>0.00527</td></tr><tr><td>26</td><td>000028.jpg</td><td>✅ Accept</td><td>0.01259</td></tr><tr><td>27</td><td>000029.jpg</td><td>✅ Accept</td><td>0.00747</td></tr><tr><td>28</td><td>000030.jpg</td><td>✅ Accept</td><td>0.00505</td></tr><tr><td>29</td><td>000031.jpg</td><td>✅ Accept</td><td>0.00527</td></tr>\n",
       "</table>\n"
      ],
      "text/plain": [
       "<IPython.core.display.HTML object>"
      ]
     },
     "metadata": {},
     "output_type": "display_data"
    },
    {
     "name": "stdout",
     "output_type": "stream",
     "text": [
      "✅ HTML log saved: rl_agent_results.html\n"
     ]
    }
   ],
   "source": [
    "# 📁 Save results as HTML (inline + file)\n",
    "html_rows = \"\".join([\n",
    "    f\"<tr><td>{r['step']}</td><td>{r['image_path']}</td><td>{r['action']}</td><td>{r['error']}</td></tr>\"\n",
    "    for r in results\n",
    "])\n",
    "html_table = f\"\"\"\n",
    "<h3>RL Agent Decision Log</h3>\n",
    "<table border='1' style='border-collapse: collapse;'>\n",
    "<tr><th>Step</th><th>Image</th><th>Action</th><th>Recon Error</th></tr>\n",
    "{html_rows}\n",
    "</table>\n",
    "\"\"\"\n",
    "\n",
    "# Inline display\n",
    "display(HTML(html_table))\n",
    "\n",
    "# ✅ Save HTML using utf-8 to fix emoji error\n",
    "with open(\"rl_agent_results.html\", \"w\", encoding=\"utf-8\") as f:\n",
    "    f.write(html_table)\n",
    "\n",
    "print(\"✅ HTML log saved: rl_agent_results.html\")\n",
    "\n"
   ]
  },
  {
   "cell_type": "markdown",
   "id": "d70985b4",
   "metadata": {},
   "source": [
    "**USER FEEDBACK INTERACTION TO RL-LOOP MECHANISM**"
   ]
  },
  {
   "cell_type": "code",
   "execution_count": 38,
   "id": "76fdc3b0",
   "metadata": {},
   "outputs": [],
   "source": [
    "# 🧠 Cell A: Feedback-Integrated RL Environment\n",
    "import torch.nn.functional as F  # For MSE loss\n",
    "\n",
    "class FeedbackImageScanEnv:\n",
    "    def __init__(self, image_dir, autoencoder, threshold=0.01, user_feedback=None):\n",
    "        self.image_dir = image_dir\n",
    "        self.autoencoder = autoencoder\n",
    "        self.threshold = threshold\n",
    "        self.images = sorted([\n",
    "            f for f in os.listdir(image_dir) if f.lower().endswith(('.jpg', '.png'))\n",
    "        ])\n",
    "        self.index = 0\n",
    "        self.transform = transforms.Compose([\n",
    "            transforms.Resize(IMAGE_SIZE),\n",
    "            transforms.ToTensor()\n",
    "        ])\n",
    "        self.feedback = user_feedback or {}  # e.g., {\"000001.jpg\": \"correct\", \"000002.jpg\": \"wrong\"}\n",
    "\n",
    "    def reset(self):\n",
    "        self.index = 0\n",
    "        return self._get_obs()\n",
    "\n",
    "    def _get_obs(self):\n",
    "        if self.index >= len(self.images):\n",
    "            return None\n",
    "        img_path = os.path.join(self.image_dir, self.images[self.index])\n",
    "        img = Image.open(img_path).convert(\"RGB\")\n",
    "        return self.transform(img).unsqueeze(0).to(DEVICE)\n",
    "\n",
    "    def step(self, action):\n",
    "        file_name = self.images[self.index]\n",
    "        image_tensor = self._get_obs()\n",
    "        recon = self.autoencoder(image_tensor)\n",
    "        recon_error = F.mse_loss(recon, image_tensor).item()\n",
    "\n",
    "        # Reward logic\n",
    "        if file_name in self.feedback:\n",
    "            feedback = self.feedback[file_name]\n",
    "            if (action == 1 and feedback == \"flag\") or (action == 0 and feedback == \"accept\"):\n",
    "                reward = 1  # correct decision\n",
    "            else:\n",
    "                reward = -1  # incorrect decision\n",
    "        else:\n",
    "            reward = 1 if ((recon_error < self.threshold and action == 0) or\n",
    "                           (recon_error >= self.threshold and action == 1)) else -1\n",
    "\n",
    "        self.index += 1\n",
    "        done = self.index >= len(self.images)\n",
    "        return self._get_obs(), reward, done, {\"file\": file_name, \"error\": recon_error, \"action\": action}\n"
   ]
  },
  {
   "cell_type": "code",
   "execution_count": 39,
   "id": "f308bd1d",
   "metadata": {},
   "outputs": [],
   "source": [
    "# 📈 Cell B: Initialize tracking logs and metrics\n",
    "training_log = []\n",
    "reward_per_episode = []\n"
   ]
  },
  {
   "cell_type": "code",
   "execution_count": 42,
   "id": "db1516bf",
   "metadata": {},
   "outputs": [
    {
     "name": "stdout",
     "output_type": "stream",
     "text": [
      "🎯 Episode 1: Total Reward = 26\n",
      "🎯 Episode 2: Total Reward = 28\n",
      "🎯 Episode 3: Total Reward = 28\n",
      "🎯 Episode 4: Total Reward = 28\n",
      "🎯 Episode 5: Total Reward = 28\n"
     ]
    }
   ],
   "source": [
    "# 🔁 Cell C: Run training with feedback loop\n",
    "USER_FEEDBACK = {\n",
    "    \"000001.jpg\": \"accept\",\n",
    "    \"000002.jpg\": \"flag\",\n",
    "    \"000003.jpg\": \"accept\",\n",
    "}\n",
    "\n",
    "'''\n",
    "OR\n",
    "# Assume a CSV with columns: file_name, feedback (e.g., flag/accept)\n",
    "feedback_df = pd.read_csv(\"user_feedback.csv\")\n",
    "USER_FEEDBACK = dict(zip(feedback_df[\"file_name\"], feedback_df[\"feedback\"]))\n",
    "'''\n",
    "env = FeedbackImageScanEnv(IMAGE_DIR, autoencoder, threshold=THRESHOLD, user_feedback=USER_FEEDBACK)\n",
    "model = Agent().to(DEVICE)\n",
    "optimizer = optim.Adam(model.parameters(), lr=LR)\n",
    "\n",
    "for episode in range(NUM_EPISODES):\n",
    "    state = env.reset()\n",
    "    total_reward = 0\n",
    "    while state is not None:\n",
    "        q_values = model(state)\n",
    "        action = torch.argmax(q_values).item()\n",
    "        next_state, reward, done, meta = env.step(action)\n",
    "        total_reward += reward\n",
    "\n",
    "        with torch.no_grad():\n",
    "            target = q_values.clone()\n",
    "            next_q = model(next_state) if next_state is not None else torch.zeros_like(q_values)\n",
    "            target[0][action] = reward + gamma * torch.max(next_q)\n",
    "\n",
    "        loss = loss_fn(q_values, target)\n",
    "        optimizer.zero_grad()\n",
    "        loss.backward()\n",
    "        optimizer.step()\n",
    "\n",
    "        training_log.append({**meta, \"reward\": reward})\n",
    "        state = next_state\n",
    "\n",
    "        if done:\n",
    "            break\n",
    "\n",
    "    reward_per_episode.append(total_reward)\n",
    "    print(f\"🎯 Episode {episode + 1}: Total Reward = {total_reward}\")\n"
   ]
  },
  {
   "cell_type": "code",
   "execution_count": 43,
   "id": "db871924",
   "metadata": {},
   "outputs": [
    {
     "name": "stdout",
     "output_type": "stream",
     "text": [
      "✅ Logs and model saved.\n"
     ]
    }
   ],
   "source": [
    "# 💾 Cell D: Save model and logs\n",
    "torch.save(model.state_dict(), PROJECT_ROOT / \"models\" / \"checkpoints\" / \"rl_agent_feedback.pth\")\n",
    "\n",
    "import pandas as pd\n",
    "df_log = pd.DataFrame(training_log)\n",
    "df_log.to_csv(\"rl_feedback_log.csv\", index=False)\n",
    "print(\"✅ Logs and model saved.\")\n"
   ]
  },
  {
   "cell_type": "code",
   "execution_count": 44,
   "id": "549b8c37",
   "metadata": {},
   "outputs": [
    {
     "name": "stderr",
     "output_type": "stream",
     "text": [
      "d:\\Documents\\CODE_WITH_ERICADESHH\\GitHub\\HarvestGuard\\venv\\lib\\site-packages\\IPython\\core\\pylabtools.py:170: UserWarning: Glyph 128201 (\\N{CHART WITH DOWNWARDS TREND}) missing from font(s) DejaVu Sans.\n",
      "  fig.canvas.print_figure(bytes_io, **kw)\n"
     ]
    },
    {
     "data": {
      "image/png": "[encoded data removed]",
      "text/plain": [
       "<Figure size 640x480 with 1 Axes>"
      ]
     },
     "metadata": {},
     "output_type": "display_data"
    }
   ],
   "source": [
    "# 📊 Cell E: Plot Rewards\n",
    "import matplotlib.pyplot as plt\n",
    "\n",
    "plt.plot(reward_per_episode, marker='o')\n",
    "plt.title(\"📉 Reward per Episode\")\n",
    "plt.xlabel(\"Episode\")\n",
    "plt.ylabel(\"Total Reward\")\n",
    "plt.grid(True)\n",
    "plt.show()\n"
   ]
  },
  {
   "cell_type": "code",
   "execution_count": 45,
   "id": "b08f5d01",
   "metadata": {},
   "outputs": [
    {
     "name": "stdout",
     "output_type": "stream",
     "text": [
      "🖼 000001.jpg | Action: ✅ Accept | Recon Error: 0.00663 | Reward: 1\n",
      "🖼 000002.jpg | Action: ✅ Accept | Recon Error: 0.00700 | Reward: -1\n",
      "🖼 000003.jpg | Action: ✅ Accept | Recon Error: 0.00787 | Reward: 1\n",
      "🖼 000004.jpg | Action: ✅ Accept | Recon Error: 0.00766 | Reward: 1\n",
      "🖼 000005.jpg | Action: ✅ Accept | Recon Error: 0.00251 | Reward: 1\n",
      "🖼 000006.jpg | Action: ✅ Accept | Recon Error: 0.00703 | Reward: 1\n",
      "🖼 000007.jpg | Action: ✅ Accept | Recon Error: 0.00182 | Reward: 1\n",
      "🖼 000008.jpg | Action: ✅ Accept | Recon Error: 0.00243 | Reward: 1\n",
      "🖼 000009.jpg | Action: ✅ Accept | Recon Error: 0.00646 | Reward: 1\n",
      "🖼 000010.jpg | Action: ✅ Accept | Recon Error: 0.00290 | Reward: 1\n",
      "🖼 000011.jpg | Action: ✅ Accept | Recon Error: 0.00138 | Reward: 1\n",
      "🖼 000012.jpg | Action: ✅ Accept | Recon Error: 0.00311 | Reward: 1\n",
      "🖼 000013.jpg | Action: ✅ Accept | Recon Error: 0.00170 | Reward: 1\n",
      "🖼 000014.jpg | Action: ✅ Accept | Recon Error: 0.00786 | Reward: 1\n",
      "🖼 000015.jpg | Action: ✅ Accept | Recon Error: 0.01126 | Reward: 1\n",
      "🖼 000016.jpg | Action: ✅ Accept | Recon Error: 0.00714 | Reward: 1\n",
      "🖼 000017.jpg | Action: ✅ Accept | Recon Error: 0.01007 | Reward: 1\n",
      "🖼 000018.jpg | Action: ✅ Accept | Recon Error: 0.00397 | Reward: 1\n",
      "🖼 000019.jpg | Action: ✅ Accept | Recon Error: 0.01143 | Reward: 1\n",
      "🖼 000020.jpg | Action: ✅ Accept | Recon Error: 0.00549 | Reward: 1\n",
      "🖼 000022.jpg | Action: ✅ Accept | Recon Error: 0.00199 | Reward: 1\n",
      "🖼 000023.jpg | Action: ✅ Accept | Recon Error: 0.00444 | Reward: 1\n",
      "🖼 000024.jpg | Action: ✅ Accept | Recon Error: 0.00480 | Reward: 1\n",
      "🖼 000025.jpg | Action: ✅ Accept | Recon Error: 0.01219 | Reward: 1\n",
      "🖼 000026.jpg | Action: ✅ Accept | Recon Error: 0.00750 | Reward: 1\n",
      "🖼 000027.jpg | Action: ✅ Accept | Recon Error: 0.00527 | Reward: 1\n",
      "🖼 000028.jpg | Action: ✅ Accept | Recon Error: 0.01259 | Reward: 1\n",
      "🖼 000029.jpg | Action: ✅ Accept | Recon Error: 0.00747 | Reward: 1\n",
      "🖼 000030.jpg | Action: ✅ Accept | Recon Error: 0.00505 | Reward: 1\n",
      "🖼 000031.jpg | Action: ✅ Accept | Recon Error: 0.00527 | Reward: 1\n",
      "\n",
      "🎓 Final Evaluation Reward: 28\n"
     ]
    }
   ],
   "source": [
    "# 🧪 Cell F: Minimal Demo (One Run)\n",
    "state = env.reset()\n",
    "total_reward = 0\n",
    "while state is not None:\n",
    "    with torch.no_grad():\n",
    "        q = model(state)\n",
    "    action = torch.argmax(q).item()\n",
    "    state, reward, done, meta = env.step(action)\n",
    "    print(f\"🖼 {meta['file']} | Action: {'✅ Accept' if action==0 else '🚩 Flag'} | Recon Error: {meta['error']:.5f} | Reward: {reward}\")\n",
    "    total_reward += reward\n",
    "    if done:\n",
    "        break\n",
    "\n",
    "print(f\"\\n🎓 Final Evaluation Reward: {total_reward}\")\n"
   ]
  },
  {
   "cell_type": "markdown",
   "id": "0b352443",
   "metadata": {},
   "source": [
    "**✅ 1. 📄 Feedback CSV Sample File Format**"
   ]
  },
  {
   "cell_type": "code",
   "execution_count": 46,
   "id": "81bc8cae",
   "metadata": {},
   "outputs": [],
   "source": [
    "import pandas as pd\n",
    "\n",
    "# ✅ Load user feedback from CSV\n",
    "feedback_df = pd.read_csv(\"user_feedback.csv\")\n",
    "USER_FEEDBACK = dict(zip(feedback_df[\"file_name\"], feedback_df[\"feedback\"]))\n"
   ]
  },
  {
   "cell_type": "code",
   "execution_count": 52,
   "id": "b288b202",
   "metadata": {},
   "outputs": [
    {
     "name": "stdout",
     "output_type": "stream",
     "text": [
      "✅ Evaluation Complete | Total Reward: 28\n"
     ]
    }
   ],
   "source": [
    "# ✅ RL Agent Evaluation with Decision Log\n",
    "import torch.nn.functional as F  # ensure F is available\n",
    "\n",
    "decision_log = []\n",
    "state = env.reset()\n",
    "done = False\n",
    "step = 0\n",
    "total_reward = 0\n",
    "\n",
    "while not done and state is not None:\n",
    "    # 🧠 Get the agent's action for the current image\n",
    "    with torch.no_grad():\n",
    "        action_values = model(state)  # state already has shape [1, 3, 128, 128]\n",
    "        action = torch.argmax(action_values).item()\n",
    "\n",
    "    # 🖼 Get image details and reconstruction error\n",
    "    image_name = env.images[env.index]\n",
    "    image_path = os.path.join(IMAGE_DIR, image_name)\n",
    "    image_tensor = env.transform(Image.open(image_path).convert(\"RGB\")).unsqueeze(0).to(DEVICE)\n",
    "    \n",
    "    recon = autoencoder(image_tensor)\n",
    "    recon_error = F.mse_loss(recon, image_tensor).item()\n",
    "\n",
    "    # 📝 Log the step's data\n",
    "    decision_log.append({\n",
    "        \"Step\": step,\n",
    "        \"Image\": image_name,\n",
    "        \"Action\": \"✅ Accept\" if action == 0 else \"⚠️ Flag\",\n",
    "        \"Recon Error\": round(recon_error, 5)\n",
    "    })\n",
    "\n",
    "    # 🔁 Step through the environment — FIXED: unpack all 4 return values\n",
    "    next_state, reward, done, _ = env.step(action)\n",
    "    total_reward += reward\n",
    "    state = next_state\n",
    "    step += 1\n",
    "\n",
    "print(f\"✅ Evaluation Complete | Total Reward: {total_reward}\")\n"
   ]
  },
  {
   "cell_type": "markdown",
   "id": "3914afed",
   "metadata": {},
   "source": [
    "What This Cell Does:\n",
    "Runs the trained RL agent step-by-step.\n",
    "\n",
    "Uses the autoencoder to calculate reconstruction error per image.\n",
    "\n",
    "Logs the agent’s decision (Accept or Flag) with recon error.\n",
    "\n",
    "Collects everything in a decision_log list, ready for visualization or saving.\n",
    "\n",
    "Handles the extra info return value from env.step() to avoid unpacking errors."
   ]
  },
  {
   "cell_type": "code",
   "execution_count": 55,
   "id": "2d90ecaf",
   "metadata": {},
   "outputs": [
    {
     "name": "stderr",
     "output_type": "stream",
     "text": [
      "C:\\Users\\HP\\AppData\\Local\\Temp\\ipykernel_1772\\218779124.py:19: UserWarning: Glyph 128269 (\\N{LEFT-POINTING MAGNIFYING GLASS}) missing from font(s) DejaVu Sans.\n",
      "  plt.tight_layout()\n",
      "C:\\Users\\HP\\AppData\\Local\\Temp\\ipykernel_1772\\218779124.py:24: UserWarning: Glyph 128269 (\\N{LEFT-POINTING MAGNIFYING GLASS}) missing from font(s) DejaVu Sans.\n",
      "  plt.savefig(chart_path)\n"
     ]
    },
    {
     "data": {
      "image/png": "[encoded data removed]",
      "text/plain": [
       "<Figure size 1000x400 with 1 Axes>"
      ]
     },
     "metadata": {},
     "output_type": "display_data"
    },
    {
     "name": "stdout",
     "output_type": "stream",
     "text": [
      "✅ Chart saved to: reports/rl_agent_performance.png\n"
     ]
    }
   ],
   "source": [
    "# 📊 Cell C: \n",
    "# Visualize & Save Performance Chart\n",
    "# Plot and Save Reconstruction Error Chart\n",
    "import matplotlib.pyplot as plt\n",
    "import pandas as pd\n",
    "\n",
    "# Convert decision log to DataFrame\n",
    "results_df = pd.DataFrame(decision_log)\n",
    "\n",
    "# Plot\n",
    "plt.figure(figsize=(10, 4))\n",
    "plt.plot(results_df['Step'], results_df['Recon Error'], marker='o', label='Reconstruction Error')\n",
    "plt.axhline(y=THRESHOLD, color='r', linestyle='--', label='Threshold')\n",
    "plt.title(\"🔍 RL Agent Performance\")\n",
    "plt.xlabel(\"Step\")\n",
    "plt.ylabel(\"Reconstruction Error\")\n",
    "plt.legend()\n",
    "plt.grid(True)\n",
    "plt.tight_layout()\n",
    "\n",
    "# Save the plot\n",
    "os.makedirs(\"reports\", exist_ok=True)\n",
    "chart_path = \"reports/rl_agent_performance.png\"\n",
    "plt.savefig(chart_path)\n",
    "plt.show()\n",
    "print(f\"✅ Chart saved to: {chart_path}\")\n"
   ]
  },
  {
   "cell_type": "code",
   "execution_count": 56,
   "id": "85ceea28",
   "metadata": {},
   "outputs": [
    {
     "name": "stdout",
     "output_type": "stream",
     "text": [
      "✅ Logs saved to:\n",
      "- CSV: reports/rl_agent_decision_log.csv\n",
      "- HTML: reports/rl_agent_decision_log.html\n"
     ]
    }
   ],
   "source": [
    "# 💾 Cell D: Save Logs as CSV and HTML\n",
    "csv_path = \"reports/rl_agent_decision_log.csv\"\n",
    "html_path = \"reports/rl_agent_decision_log.html\"\n",
    "\n",
    "# Save as CSV\n",
    "results_df.to_csv(csv_path, index=False)\n",
    "\n",
    "# Save as HTML (with encoding fix)\n",
    "results_df.to_html(html_path, index=False, escape=False)\n",
    "\n",
    "print(f\"✅ Logs saved to:\\n- CSV: {csv_path}\\n- HTML: {html_path}\")\n"
   ]
  }
 ],
 "metadata": {
  "kernelspec": {
   "display_name": "venv",
   "language": "python",
   "name": "python3"
  },
  "language_info": {
   "codemirror_mode": {
    "name": "ipython",
    "version": 3
   },
   "file_extension": ".py",
   "mimetype": "text/x-python",
   "name": "python",
   "nbconvert_exporter": "python",
   "pygments_lexer": "ipython3",
   "version": "3.10.0"
  }
 },
 "nbformat": 4,
 "nbformat_minor": 5
}
